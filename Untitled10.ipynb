{
  "nbformat": 4,
  "nbformat_minor": 0,
  "metadata": {
    "colab": {
      "provenance": [],
      "gpuType": "T4"
    },
    "kernelspec": {
      "name": "python3",
      "display_name": "Python 3"
    },
    "language_info": {
      "name": "python"
    },
    "accelerator": "GPU"
  },
  "cells": [
    {
      "cell_type": "code",
      "execution_count": 3,
      "metadata": {
        "id": "vwOnnQQZNDza"
      },
      "outputs": [],
      "source": [
        "import numpy as np\n",
        "import tensorflow as tf\n",
        "import time"
      ]
    },
    {
      "cell_type": "code",
      "source": [
        "tf.test.gpu_device_name()"
      ],
      "metadata": {
        "colab": {
          "base_uri": "https://localhost:8080/",
          "height": 36
        },
        "id": "qP6LvoWYNScV",
        "outputId": "351d821a-b48e-4eae-d750-787887d4ab11"
      },
      "execution_count": 4,
      "outputs": [
        {
          "output_type": "execute_result",
          "data": {
            "text/plain": [
              "'/device:GPU:0'"
            ],
            "application/vnd.google.colaboratory.intrinsic+json": {
              "type": "string"
            }
          },
          "metadata": {},
          "execution_count": 4
        }
      ]
    },
    {
      "cell_type": "markdown",
      "source": [
        "**Create Numpy Array and Calculate the time**"
      ],
      "metadata": {
        "id": "gASRB0jrNYxT"
      }
    },
    {
      "cell_type": "code",
      "source": [
        "shape =5000"
      ],
      "metadata": {
        "id": "sJbOUE9RNiRo"
      },
      "execution_count": 5,
      "outputs": []
    },
    {
      "cell_type": "code",
      "source": [
        "np_array =np.random.uniform(size=(shape,shape))\n"
      ],
      "metadata": {
        "id": "5KhoWG4aNrm2"
      },
      "execution_count": 6,
      "outputs": []
    },
    {
      "cell_type": "code",
      "source": [
        "start=time.time()\n",
        "\n",
        "for i in range(10):\n",
        "  np.matmul(np_array ,np_array)\n",
        "\n",
        "end =time.time()\n",
        "time_period =end -start\n",
        "\n",
        "print(f'{time_period} seconds')"
      ],
      "metadata": {
        "colab": {
          "base_uri": "https://localhost:8080/"
        },
        "id": "Z8UzuxRsN4He",
        "outputId": "a720a54e-465c-4bb6-8bee-289f1e6b81e1"
      },
      "execution_count": 7,
      "outputs": [
        {
          "output_type": "stream",
          "name": "stdout",
          "text": [
            "45.32646632194519 seconds\n"
          ]
        }
      ]
    },
    {
      "cell_type": "markdown",
      "source": [
        "**Create Tesnsor and then calculate time**"
      ],
      "metadata": {
        "id": "gc0yUeCgacnp"
      }
    },
    {
      "cell_type": "code",
      "source": [
        "tf_array =tf.random.uniform([shape,shape])"
      ],
      "metadata": {
        "id": "IYJfLajkalhu"
      },
      "execution_count": 8,
      "outputs": []
    },
    {
      "cell_type": "code",
      "source": [
        "start=time.time()\n",
        "\n",
        "for i in range(10):\n",
        "  tf.matmul(tf_array ,tf_array)\n",
        "\n",
        "end =time.time()\n",
        "time_period =end -start\n",
        "\n",
        "print(f'{time_period} seconds')"
      ],
      "metadata": {
        "colab": {
          "base_uri": "https://localhost:8080/"
        },
        "id": "93tJWMFRa5gi",
        "outputId": "17ff42c1-fd6d-4e07-ea19-de96eda011c2"
      },
      "execution_count": 9,
      "outputs": [
        {
          "output_type": "stream",
          "name": "stdout",
          "text": [
            "0.12150812149047852 seconds\n"
          ]
        }
      ]
    }
  ]
}