{
  "nbformat": 4,
  "nbformat_minor": 0,
  "metadata": {
    "colab": {
      "provenance": []
    },
    "kernelspec": {
      "name": "python3",
      "display_name": "Python 3"
    },
    "language_info": {
      "name": "python"
    }
  },
  "cells": [
    {
      "cell_type": "code",
      "execution_count": null,
      "metadata": {
        "id": "xj2_yM_x23za"
      },
      "outputs": [],
      "source": []
    },
    {
      "cell_type": "markdown",
      "source": [
        "# **Load The Dataset**"
      ],
      "metadata": {
        "id": "lJ5GzCNv3GKi"
      }
    },
    {
      "cell_type": "code",
      "source": [
        "!pip install ucimlrepo"
      ],
      "metadata": {
        "colab": {
          "base_uri": "https://localhost:8080/"
        },
        "id": "1uLcddQu3Mhm",
        "outputId": "d38e73be-954e-4590-9c20-6ed5316a3ef7"
      },
      "execution_count": 3,
      "outputs": [
        {
          "output_type": "stream",
          "name": "stdout",
          "text": [
            "Collecting ucimlrepo\n",
            "  Downloading ucimlrepo-0.0.7-py3-none-any.whl.metadata (5.5 kB)\n",
            "Requirement already satisfied: pandas>=1.0.0 in /usr/local/lib/python3.12/dist-packages (from ucimlrepo) (2.2.2)\n",
            "Requirement already satisfied: certifi>=2020.12.5 in /usr/local/lib/python3.12/dist-packages (from ucimlrepo) (2025.8.3)\n",
            "Requirement already satisfied: numpy>=1.26.0 in /usr/local/lib/python3.12/dist-packages (from pandas>=1.0.0->ucimlrepo) (2.0.2)\n",
            "Requirement already satisfied: python-dateutil>=2.8.2 in /usr/local/lib/python3.12/dist-packages (from pandas>=1.0.0->ucimlrepo) (2.9.0.post0)\n",
            "Requirement already satisfied: pytz>=2020.1 in /usr/local/lib/python3.12/dist-packages (from pandas>=1.0.0->ucimlrepo) (2025.2)\n",
            "Requirement already satisfied: tzdata>=2022.7 in /usr/local/lib/python3.12/dist-packages (from pandas>=1.0.0->ucimlrepo) (2025.2)\n",
            "Requirement already satisfied: six>=1.5 in /usr/local/lib/python3.12/dist-packages (from python-dateutil>=2.8.2->pandas>=1.0.0->ucimlrepo) (1.17.0)\n",
            "Downloading ucimlrepo-0.0.7-py3-none-any.whl (8.0 kB)\n",
            "Installing collected packages: ucimlrepo\n",
            "Successfully installed ucimlrepo-0.0.7\n"
          ]
        }
      ]
    },
    {
      "cell_type": "code",
      "source": [
        "from ucimlrepo import fetch_ucirepo\n",
        "\n",
        "\n",
        "bank_marketing = fetch_ucirepo(id=222)\n",
        "\n",
        "\n",
        "X = bank_marketing.data.features\n",
        "y = bank_marketing.data.targets\n",
        "\n",
        "\n",
        "print(bank_marketing.metadata)\n",
        "print(bank_marketing.variables)\n"
      ],
      "metadata": {
        "colab": {
          "base_uri": "https://localhost:8080/"
        },
        "id": "t2sr_eJi3Po1",
        "outputId": "af279693-2f10-4cc1-d40b-f07eed4b5fd0"
      },
      "execution_count": 4,
      "outputs": [
        {
          "output_type": "stream",
          "name": "stdout",
          "text": [
            "{'uci_id': 222, 'name': 'Bank Marketing', 'repository_url': 'https://archive.ics.uci.edu/dataset/222/bank+marketing', 'data_url': 'https://archive.ics.uci.edu/static/public/222/data.csv', 'abstract': 'The data is related with direct marketing campaigns (phone calls) of a Portuguese banking institution. The classification goal is to predict if the client will subscribe a term deposit (variable y).', 'area': 'Business', 'tasks': ['Classification'], 'characteristics': ['Multivariate'], 'num_instances': 45211, 'num_features': 16, 'feature_types': ['Categorical', 'Integer'], 'demographics': ['Age', 'Occupation', 'Marital Status', 'Education Level'], 'target_col': ['y'], 'index_col': None, 'has_missing_values': 'yes', 'missing_values_symbol': 'NaN', 'year_of_dataset_creation': 2014, 'last_updated': 'Fri Aug 18 2023', 'dataset_doi': '10.24432/C5K306', 'creators': ['S. Moro', 'P. Rita', 'P. Cortez'], 'intro_paper': {'ID': 277, 'type': 'NATIVE', 'title': 'A data-driven approach to predict the success of bank telemarketing', 'authors': 'Sérgio Moro, P. Cortez, P. Rita', 'venue': 'Decision Support Systems', 'year': 2014, 'journal': None, 'DOI': '10.1016/j.dss.2014.03.001', 'URL': 'https://www.semanticscholar.org/paper/cab86052882d126d43f72108c6cb41b295cc8a9e', 'sha': None, 'corpus': None, 'arxiv': None, 'mag': None, 'acl': None, 'pmid': None, 'pmcid': None}, 'additional_info': {'summary': \"The data is related with direct marketing campaigns of a Portuguese banking institution. The marketing campaigns were based on phone calls. Often, more than one contact to the same client was required, in order to access if the product (bank term deposit) would be ('yes') or not ('no') subscribed. \\n\\nThere are four datasets: \\n1) bank-additional-full.csv with all examples (41188) and 20 inputs, ordered by date (from May 2008 to November 2010), very close to the data analyzed in [Moro et al., 2014]\\n2) bank-additional.csv with 10% of the examples (4119), randomly selected from 1), and 20 inputs.\\n3) bank-full.csv with all examples and 17 inputs, ordered by date (older version of this dataset with less inputs). \\n4) bank.csv with 10% of the examples and 17 inputs, randomly selected from 3 (older version of this dataset with less inputs). \\nThe smallest datasets are provided to test more computationally demanding machine learning algorithms (e.g., SVM). \\n\\nThe classification goal is to predict if the client will subscribe (yes/no) a term deposit (variable y).\", 'purpose': None, 'funded_by': None, 'instances_represent': None, 'recommended_data_splits': None, 'sensitive_data': None, 'preprocessing_description': None, 'variable_info': 'Input variables:\\n   # bank client data:\\n   1 - age (numeric)\\n   2 - job : type of job (categorical: \"admin.\",\"unknown\",\"unemployed\",\"management\",\"housemaid\",\"entrepreneur\",\"student\",\\n                                       \"blue-collar\",\"self-employed\",\"retired\",\"technician\",\"services\") \\n   3 - marital : marital status (categorical: \"married\",\"divorced\",\"single\"; note: \"divorced\" means divorced or widowed)\\n   4 - education (categorical: \"unknown\",\"secondary\",\"primary\",\"tertiary\")\\n   5 - default: has credit in default? (binary: \"yes\",\"no\")\\n   6 - balance: average yearly balance, in euros (numeric) \\n   7 - housing: has housing loan? (binary: \"yes\",\"no\")\\n   8 - loan: has personal loan? (binary: \"yes\",\"no\")\\n   # related with the last contact of the current campaign:\\n   9 - contact: contact communication type (categorical: \"unknown\",\"telephone\",\"cellular\") \\n  10 - day: last contact day of the month (numeric)\\n  11 - month: last contact month of year (categorical: \"jan\", \"feb\", \"mar\", ..., \"nov\", \"dec\")\\n  12 - duration: last contact duration, in seconds (numeric)\\n   # other attributes:\\n  13 - campaign: number of contacts performed during this campaign and for this client (numeric, includes last contact)\\n  14 - pdays: number of days that passed by after the client was last contacted from a previous campaign (numeric, -1 means client was not previously contacted)\\n  15 - previous: number of contacts performed before this campaign and for this client (numeric)\\n  16 - poutcome: outcome of the previous marketing campaign (categorical: \"unknown\",\"other\",\"failure\",\"success\")\\n\\n  Output variable (desired target):\\n  17 - y - has the client subscribed a term deposit? (binary: \"yes\",\"no\")\\n', 'citation': None}}\n",
            "           name     role         type      demographic  \\\n",
            "0           age  Feature      Integer              Age   \n",
            "1           job  Feature  Categorical       Occupation   \n",
            "2       marital  Feature  Categorical   Marital Status   \n",
            "3     education  Feature  Categorical  Education Level   \n",
            "4       default  Feature       Binary             None   \n",
            "5       balance  Feature      Integer             None   \n",
            "6       housing  Feature       Binary             None   \n",
            "7          loan  Feature       Binary             None   \n",
            "8       contact  Feature  Categorical             None   \n",
            "9   day_of_week  Feature         Date             None   \n",
            "10        month  Feature         Date             None   \n",
            "11     duration  Feature      Integer             None   \n",
            "12     campaign  Feature      Integer             None   \n",
            "13        pdays  Feature      Integer             None   \n",
            "14     previous  Feature      Integer             None   \n",
            "15     poutcome  Feature  Categorical             None   \n",
            "16            y   Target       Binary             None   \n",
            "\n",
            "                                          description  units missing_values  \n",
            "0                                                None   None             no  \n",
            "1   type of job (categorical: 'admin.','blue-colla...   None             no  \n",
            "2   marital status (categorical: 'divorced','marri...   None             no  \n",
            "3   (categorical: 'basic.4y','basic.6y','basic.9y'...   None             no  \n",
            "4                              has credit in default?   None             no  \n",
            "5                              average yearly balance  euros             no  \n",
            "6                                   has housing loan?   None             no  \n",
            "7                                  has personal loan?   None             no  \n",
            "8   contact communication type (categorical: 'cell...   None            yes  \n",
            "9                        last contact day of the week   None             no  \n",
            "10  last contact month of year (categorical: 'jan'...   None             no  \n",
            "11   last contact duration, in seconds (numeric). ...   None             no  \n",
            "12  number of contacts performed during this campa...   None             no  \n",
            "13  number of days that passed by after the client...   None            yes  \n",
            "14  number of contacts performed before this campa...   None             no  \n",
            "15  outcome of the previous marketing campaign (ca...   None            yes  \n",
            "16          has the client subscribed a term deposit?   None             no  \n"
          ]
        }
      ]
    },
    {
      "cell_type": "markdown",
      "source": [
        "# **Data Preprocessing**"
      ],
      "metadata": {
        "id": "gdctwJw7ULaH"
      }
    },
    {
      "cell_type": "code",
      "source": [
        "import pandas as pd\n",
        "import numpy as np\n",
        "from sklearn.model_selection import train_test_split\n",
        "from sklearn.preprocessing import StandardScaler, LabelEncoder\n",
        "import torch\n",
        "from torch.utils.data import DataLoader, TensorDataset\n",
        "# Encode target (yes/no -> 0/1)\n",
        "y = LabelEncoder().fit_transform(y.values.ravel())\n",
        "\n",
        "# Encode categorical features\n",
        "X = pd.get_dummies(X, drop_first=True)\n",
        "\n",
        "# Train-test split\n",
        "X_train, X_test, y_train, y_test = train_test_split(X, y, test_size=0.2, random_state=42)\n",
        "\n",
        "# Scale numerical features\n",
        "scaler = StandardScaler()\n",
        "X_train = scaler.fit_transform(X_train)\n",
        "X_test = scaler.transform(X_test)\n",
        "\n",
        "# Convert to torch tensors\n",
        "X_train_tensor = torch.tensor(X_train, dtype=torch.float32)\n",
        "y_train_tensor = torch.tensor(y_train, dtype=torch.float32).view(-1, 1)\n",
        "X_test_tensor = torch.tensor(X_test, dtype=torch.float32)\n",
        "y_test_tensor = torch.tensor(y_test, dtype=torch.float32).view(-1, 1)\n",
        "\n",
        "# Create DataLoaders\n",
        "train_dataset = TensorDataset(X_train_tensor, y_train_tensor)\n",
        "test_dataset = TensorDataset(X_test_tensor, y_test_tensor)\n",
        "\n",
        "train_loader = DataLoader(train_dataset, batch_size=32, shuffle=True)\n",
        "test_loader = DataLoader(test_dataset, batch_size=32)"
      ],
      "metadata": {
        "id": "QgaG4Zbn3b4-"
      },
      "execution_count": 5,
      "outputs": []
    },
    {
      "cell_type": "markdown",
      "source": [
        "# **Define the Model**"
      ],
      "metadata": {
        "id": "2qd6rmPdVVfQ"
      }
    },
    {
      "cell_type": "code",
      "source": [
        "import torch.nn as nn\n",
        "import torch.nn.functional as F\n",
        "\n",
        "class NeuralNet(nn.Module):\n",
        "    def __init__(self, input_dim):\n",
        "        super(NeuralNet, self).__init__()\n",
        "        self.fc1 = nn.Linear(input_dim, 64)\n",
        "        self.fc2 = nn.Linear(64, 32)\n",
        "        self.fc3 = nn.Linear(32, 1)\n",
        "\n",
        "    def forward(self, x):\n",
        "        x = F.relu(self.fc1(x))\n",
        "        x = F.relu(self.fc2(x))\n",
        "        x = torch.sigmoid(self.fc3(x))\n",
        "        return x\n",
        "\n",
        "model = NeuralNet(X_train.shape[1])\n"
      ],
      "metadata": {
        "id": "Zd5UqsHfORHT"
      },
      "execution_count": 6,
      "outputs": []
    },
    {
      "cell_type": "markdown",
      "source": [
        "# **Loss function & optimizer**"
      ],
      "metadata": {
        "id": "1Ru2JGcTWyDw"
      }
    },
    {
      "cell_type": "code",
      "source": [
        "import torch.optim as optim\n",
        "\n",
        "criterion = nn.BCELoss()\n",
        "optimizer = optim.Adam(model.parameters(), lr=0.001)\n"
      ],
      "metadata": {
        "id": "y9SzSxWFOc-L"
      },
      "execution_count": 7,
      "outputs": []
    },
    {
      "cell_type": "markdown",
      "source": [
        "# **Train the Model**"
      ],
      "metadata": {
        "id": "BFh0r6SaXblX"
      }
    },
    {
      "cell_type": "code",
      "source": [
        "epochs = 20\n",
        "\n",
        "for epoch in range(epochs):\n",
        "    model.train()\n",
        "    running_loss = 0.0\n",
        "\n",
        "    for inputs, targets in train_loader:\n",
        "        optimizer.zero_grad()\n",
        "        outputs = model(inputs)\n",
        "        loss = criterion(outputs, targets)\n",
        "        loss.backward()\n",
        "        optimizer.step()\n",
        "        running_loss += loss.item()\n",
        "\n",
        "    print(f\"Epoch [{epoch+1}/{epochs}], Loss: {running_loss/len(train_loader):.4f}\")\n"
      ],
      "metadata": {
        "colab": {
          "base_uri": "https://localhost:8080/"
        },
        "id": "HckRCHAbOjqX",
        "outputId": "7a3ad9d2-aa71-4af0-a6cf-1613d22a6f2e"
      },
      "execution_count": 8,
      "outputs": [
        {
          "output_type": "stream",
          "name": "stdout",
          "text": [
            "Epoch [1/20], Loss: 0.2478\n",
            "Epoch [2/20], Loss: 0.2185\n",
            "Epoch [3/20], Loss: 0.2133\n",
            "Epoch [4/20], Loss: 0.2091\n",
            "Epoch [5/20], Loss: 0.2053\n",
            "Epoch [6/20], Loss: 0.2015\n",
            "Epoch [7/20], Loss: 0.1991\n",
            "Epoch [8/20], Loss: 0.1963\n",
            "Epoch [9/20], Loss: 0.1936\n",
            "Epoch [10/20], Loss: 0.1917\n",
            "Epoch [11/20], Loss: 0.1898\n",
            "Epoch [12/20], Loss: 0.1881\n",
            "Epoch [13/20], Loss: 0.1861\n",
            "Epoch [14/20], Loss: 0.1838\n",
            "Epoch [15/20], Loss: 0.1823\n",
            "Epoch [16/20], Loss: 0.1804\n",
            "Epoch [17/20], Loss: 0.1791\n",
            "Epoch [18/20], Loss: 0.1772\n",
            "Epoch [19/20], Loss: 0.1753\n",
            "Epoch [20/20], Loss: 0.1741\n"
          ]
        }
      ]
    },
    {
      "cell_type": "markdown",
      "source": [
        "# **Final Evaluation**"
      ],
      "metadata": {
        "id": "c2vzKjxbvvTr"
      }
    },
    {
      "cell_type": "code",
      "source": [
        "model.eval()\n",
        "correct = 0\n",
        "total = 0\n",
        "\n",
        "with torch.no_grad():\n",
        "    for inputs, targets in test_loader:\n",
        "        outputs = model(inputs)\n",
        "        predicted = (outputs > 0.5).float()\n",
        "        total += targets.size(0)\n",
        "        correct += (predicted == targets).sum().item()\n",
        "\n",
        "print(f\"Test Accuracy: {100 * correct / total:.2f}%\")\n"
      ],
      "metadata": {
        "colab": {
          "base_uri": "https://localhost:8080/"
        },
        "id": "ceMY0QuMOt3U",
        "outputId": "f68fb58e-b246-4097-cdbe-10771514aa4f"
      },
      "execution_count": 9,
      "outputs": [
        {
          "output_type": "stream",
          "name": "stdout",
          "text": [
            "Test Accuracy: 90.20%\n"
          ]
        }
      ]
    },
    {
      "cell_type": "code",
      "source": [
        "import matplotlib.pyplot as plt\n",
        "from sklearn.metrics import accuracy_score, precision_score, recall_score, f1_score\n",
        "\n",
        "epochs = 30\n",
        "train_losses, val_losses = [], []\n",
        "train_accuracies, val_accuracies = [], []\n",
        "\n",
        "for epoch in range(epochs):\n",
        "    # ---- Training ----\n",
        "    model.train()\n",
        "    running_loss, correct, total = 0.0, 0, 0\n",
        "\n",
        "    for inputs, targets in train_loader:\n",
        "        optimizer.zero_grad()\n",
        "        outputs = model(inputs)\n",
        "        loss = criterion(outputs, targets)\n",
        "        loss.backward()\n",
        "        optimizer.step()\n",
        "\n",
        "        running_loss += loss.item()\n",
        "        predicted = (outputs > 0.5).float()\n",
        "        total += targets.size(0)\n",
        "        correct += (predicted == targets).sum().item()\n",
        "\n",
        "    train_loss = running_loss / len(train_loader)\n",
        "    train_acc = 100 * correct / total\n",
        "    train_losses.append(train_loss)\n",
        "    train_accuracies.append(train_acc)\n",
        "\n",
        "    # ---- Validation ----\n",
        "    model.eval()\n",
        "    val_running_loss, val_correct, val_total = 0.0, 0, 0\n",
        "\n",
        "    with torch.no_grad():\n",
        "        for inputs, targets in test_loader:\n",
        "            outputs = model(inputs)\n",
        "            loss = criterion(outputs, targets)\n",
        "            val_running_loss += loss.item()\n",
        "\n",
        "            predicted = (outputs > 0.5).float()\n",
        "            val_total += targets.size(0)\n",
        "            val_correct += (predicted == targets).sum().item()\n",
        "\n",
        "    val_loss = val_running_loss / len(test_loader)\n",
        "    val_acc = 100 * val_correct / val_total\n",
        "    val_losses.append(val_loss)\n",
        "    val_accuracies.append(val_acc)\n",
        "\n",
        "    print(f\"Epoch [{epoch+1}/{epochs}] \"\n",
        "          f\"Train Loss: {train_loss:.4f}, Train Acc: {train_acc:.2f}% | \"\n",
        "          f\"Val Loss: {val_loss:.4f}, Val Acc: {val_acc:.2f}%\")\n"
      ],
      "metadata": {
        "colab": {
          "base_uri": "https://localhost:8080/"
        },
        "id": "0vHUPXWQQOnY",
        "outputId": "7cbf97d8-b93f-4abe-8212-ca7032844b87"
      },
      "execution_count": 13,
      "outputs": [
        {
          "output_type": "stream",
          "name": "stdout",
          "text": [
            "Epoch [1/30] Train Loss: 0.1728, Train Acc: 92.24% | Val Loss: 0.2284, Val Acc: 90.11%\n",
            "Epoch [2/30] Train Loss: 0.1717, Train Acc: 92.42% | Val Loss: 0.2298, Val Acc: 90.48%\n",
            "Epoch [3/30] Train Loss: 0.1697, Train Acc: 92.52% | Val Loss: 0.2323, Val Acc: 90.29%\n",
            "Epoch [4/30] Train Loss: 0.1679, Train Acc: 92.57% | Val Loss: 0.2377, Val Acc: 90.22%\n",
            "Epoch [5/30] Train Loss: 0.1674, Train Acc: 92.68% | Val Loss: 0.2331, Val Acc: 90.12%\n",
            "Epoch [6/30] Train Loss: 0.1661, Train Acc: 92.74% | Val Loss: 0.2325, Val Acc: 90.05%\n",
            "Epoch [7/30] Train Loss: 0.1640, Train Acc: 92.86% | Val Loss: 0.2373, Val Acc: 90.35%\n",
            "Epoch [8/30] Train Loss: 0.1633, Train Acc: 92.77% | Val Loss: 0.2434, Val Acc: 90.19%\n",
            "Epoch [9/30] Train Loss: 0.1621, Train Acc: 92.86% | Val Loss: 0.2392, Val Acc: 89.78%\n",
            "Epoch [10/30] Train Loss: 0.1603, Train Acc: 93.05% | Val Loss: 0.2415, Val Acc: 90.01%\n",
            "Epoch [11/30] Train Loss: 0.1593, Train Acc: 93.07% | Val Loss: 0.2449, Val Acc: 90.10%\n",
            "Epoch [12/30] Train Loss: 0.1581, Train Acc: 93.07% | Val Loss: 0.2471, Val Acc: 89.87%\n",
            "Epoch [13/30] Train Loss: 0.1565, Train Acc: 93.18% | Val Loss: 0.2475, Val Acc: 89.66%\n",
            "Epoch [14/30] Train Loss: 0.1558, Train Acc: 93.32% | Val Loss: 0.2458, Val Acc: 89.95%\n",
            "Epoch [15/30] Train Loss: 0.1548, Train Acc: 93.27% | Val Loss: 0.2494, Val Acc: 89.77%\n",
            "Epoch [16/30] Train Loss: 0.1535, Train Acc: 93.26% | Val Loss: 0.2535, Val Acc: 90.16%\n",
            "Epoch [17/30] Train Loss: 0.1525, Train Acc: 93.51% | Val Loss: 0.2506, Val Acc: 89.76%\n",
            "Epoch [18/30] Train Loss: 0.1507, Train Acc: 93.47% | Val Loss: 0.2530, Val Acc: 89.97%\n",
            "Epoch [19/30] Train Loss: 0.1501, Train Acc: 93.54% | Val Loss: 0.2594, Val Acc: 89.83%\n",
            "Epoch [20/30] Train Loss: 0.1497, Train Acc: 93.56% | Val Loss: 0.2588, Val Acc: 89.43%\n",
            "Epoch [21/30] Train Loss: 0.1480, Train Acc: 93.69% | Val Loss: 0.2611, Val Acc: 89.76%\n",
            "Epoch [22/30] Train Loss: 0.1475, Train Acc: 93.56% | Val Loss: 0.2644, Val Acc: 89.89%\n",
            "Epoch [23/30] Train Loss: 0.1464, Train Acc: 93.73% | Val Loss: 0.2630, Val Acc: 89.69%\n",
            "Epoch [24/30] Train Loss: 0.1460, Train Acc: 93.75% | Val Loss: 0.2675, Val Acc: 89.63%\n",
            "Epoch [25/30] Train Loss: 0.1448, Train Acc: 93.72% | Val Loss: 0.2643, Val Acc: 89.75%\n",
            "Epoch [26/30] Train Loss: 0.1450, Train Acc: 93.87% | Val Loss: 0.2654, Val Acc: 89.61%\n",
            "Epoch [27/30] Train Loss: 0.1426, Train Acc: 93.92% | Val Loss: 0.2709, Val Acc: 89.40%\n",
            "Epoch [28/30] Train Loss: 0.1421, Train Acc: 93.94% | Val Loss: 0.2747, Val Acc: 89.40%\n",
            "Epoch [29/30] Train Loss: 0.1412, Train Acc: 93.98% | Val Loss: 0.2690, Val Acc: 89.48%\n",
            "Epoch [30/30] Train Loss: 0.1407, Train Acc: 93.96% | Val Loss: 0.2731, Val Acc: 89.42%\n"
          ]
        }
      ]
    },
    {
      "cell_type": "markdown",
      "source": [
        "# **Evaluation Metrics**"
      ],
      "metadata": {
        "id": "-3IToHfbwrEw"
      }
    },
    {
      "cell_type": "code",
      "source": [
        "from sklearn.metrics import classification_report\n",
        "\n",
        "y_true, y_pred = [], []\n",
        "\n",
        "model.eval()\n",
        "with torch.no_grad():\n",
        "    for inputs, targets in test_loader:\n",
        "        outputs = model(inputs)\n",
        "        predicted = (outputs > 0.5).int()\n",
        "        y_true.extend(targets.int().numpy())\n",
        "        y_pred.extend(predicted.numpy())\n",
        "\n",
        "print(\"Classification Report:\")\n",
        "print(classification_report(y_true, y_pred, digits=4))\n"
      ],
      "metadata": {
        "colab": {
          "base_uri": "https://localhost:8080/"
        },
        "id": "RlDu_bI1PT5f",
        "outputId": "a1e7b1d4-b3cf-4bba-a7bc-f4cc741d8fac"
      },
      "execution_count": 10,
      "outputs": [
        {
          "output_type": "stream",
          "name": "stdout",
          "text": [
            "Classification Report:\n",
            "              precision    recall  f1-score   support\n",
            "\n",
            "           0     0.9301    0.9608    0.9452      7952\n",
            "           1     0.6236    0.4739    0.5385      1091\n",
            "\n",
            "    accuracy                         0.9020      9043\n",
            "   macro avg     0.7769    0.7173    0.7419      9043\n",
            "weighted avg     0.8931    0.9020    0.8961      9043\n",
            "\n"
          ]
        }
      ]
    },
    {
      "cell_type": "markdown",
      "source": [
        "# **Training-Validation and  Accuracy/Loss plots.**"
      ],
      "metadata": {
        "id": "fUcfLkHUw4Mf"
      }
    },
    {
      "cell_type": "code",
      "source": [
        "import matplotlib.pyplot as plt\n",
        "\n",
        "\n",
        "plt.figure(figsize=(12,5))\n",
        "\n",
        "# Plot loss\n",
        "plt.subplot(1,2,1)\n",
        "plt.plot(train_losses, label='Train Loss')\n",
        "plt.plot(val_losses, label='Validation Loss')\n",
        "plt.xlabel('Epoch')\n",
        "plt.ylabel('Loss')\n",
        "plt.title('Training vs Validation Loss')\n",
        "plt.legend()\n",
        "\n",
        "# Plot accuracy\n",
        "plt.subplot(1,2,2)\n",
        "plt.plot(train_accuracies, label='Train Accuracy')\n",
        "plt.plot(val_accuracies, label='Validation Accuracy')\n",
        "plt.xlabel('Epoch')\n",
        "plt.ylabel('Accuracy (%)')\n",
        "plt.title('Training vs Validation Accuracy')\n",
        "plt.legend()\n",
        "\n",
        "plt.show()\n",
        "\n"
      ],
      "metadata": {
        "colab": {
          "base_uri": "https://localhost:8080/",
          "height": 389
        },
        "id": "RFyhh2K_PTjz",
        "outputId": "af8077b4-cf4d-4cc2-f86c-6cf0c913f87a"
      },
      "execution_count": 14,
      "outputs": [
        {
          "output_type": "display_data",
          "data": {
            "text/plain": [
              "<Figure size 1200x500 with 2 Axes>"
            ],
            "image/png": "[encoded data removed]"
          },
          "metadata": {}
        }
      ]
    }
  ]
}