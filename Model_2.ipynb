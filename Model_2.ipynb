{
  "nbformat": 4,
  "nbformat_minor": 0,
  "metadata": {
    "colab": {
      "provenance": []
    },
    "kernelspec": {
      "name": "python3",
      "display_name": "Python 3"
    },
    "language_info": {
      "name": "python"
    }
  },
  "cells": [
    {
      "cell_type": "code",
      "execution_count": null,
      "metadata": {
        "colab": {
          "base_uri": "https://localhost:8080/"
        },
        "id": "GXggoT_YzEib",
        "outputId": "1597c634-30d2-4f2f-a802-0ef6a79b4fe5"
      },
      "outputs": [
        {
          "output_type": "stream",
          "name": "stdout",
          "text": [
            "Collecting ucimlrepo\n",
            "  Downloading ucimlrepo-0.0.7-py3-none-any.whl.metadata (5.5 kB)\n",
            "Requirement already satisfied: pandas>=1.0.0 in /usr/local/lib/python3.12/dist-packages (from ucimlrepo) (2.2.2)\n",
            "Requirement already satisfied: certifi>=2020.12.5 in /usr/local/lib/python3.12/dist-packages (from ucimlrepo) (2025.8.3)\n",
            "Requirement already satisfied: numpy>=1.26.0 in /usr/local/lib/python3.12/dist-packages (from pandas>=1.0.0->ucimlrepo) (2.0.2)\n",
            "Requirement already satisfied: python-dateutil>=2.8.2 in /usr/local/lib/python3.12/dist-packages (from pandas>=1.0.0->ucimlrepo) (2.9.0.post0)\n",
            "Requirement already satisfied: pytz>=2020.1 in /usr/local/lib/python3.12/dist-packages (from pandas>=1.0.0->ucimlrepo) (2025.2)\n",
            "Requirement already satisfied: tzdata>=2022.7 in /usr/local/lib/python3.12/dist-packages (from pandas>=1.0.0->ucimlrepo) (2025.2)\n",
            "Requirement already satisfied: six>=1.5 in /usr/local/lib/python3.12/dist-packages (from python-dateutil>=2.8.2->pandas>=1.0.0->ucimlrepo) (1.17.0)\n",
            "Downloading ucimlrepo-0.0.7-py3-none-any.whl (8.0 kB)\n",
            "Installing collected packages: ucimlrepo\n",
            "Successfully installed ucimlrepo-0.0.7\n"
          ]
        }
      ],
      "source": [
        "# !pip install ucimlrepo"
      ]
    },
    {
      "cell_type": "markdown",
      "source": [
        "### **Load the Dataset**"
      ],
      "metadata": {
        "id": "fSA6beV-0lsx"
      }
    },
    {
      "cell_type": "code",
      "source": [
        "from ucimlrepo import fetch_ucirepo\n",
        "\n",
        "\n",
        "breast_cancer_wisconsin_diagnostic = fetch_ucirepo(id=17)\n",
        "X = breast_cancer_wisconsin_diagnostic.data.features\n",
        "y = breast_cancer_wisconsin_diagnostic.data.targets\n",
        "\n",
        "\n",
        "print(breast_cancer_wisconsin_diagnostic.metadata)\n",
        "print(breast_cancer_wisconsin_diagnostic.variables)\n"
      ],
      "metadata": {
        "colab": {
          "base_uri": "https://localhost:8080/"
        },
        "id": "6WBwsCu90xh5",
        "outputId": "21ca9ab8-12b1-4f17-d919-4af1c24440a7"
      },
      "execution_count": 5,
      "outputs": [
        {
          "output_type": "stream",
          "name": "stdout",
          "text": [
            "{'uci_id': 17, 'name': 'Breast Cancer Wisconsin (Diagnostic)', 'repository_url': 'https://archive.ics.uci.edu/dataset/17/breast+cancer+wisconsin+diagnostic', 'data_url': 'https://archive.ics.uci.edu/static/public/17/data.csv', 'abstract': 'Diagnostic Wisconsin Breast Cancer Database.', 'area': 'Health and Medicine', 'tasks': ['Classification'], 'characteristics': ['Multivariate'], 'num_instances': 569, 'num_features': 30, 'feature_types': ['Real'], 'demographics': [], 'target_col': ['Diagnosis'], 'index_col': ['ID'], 'has_missing_values': 'no', 'missing_values_symbol': None, 'year_of_dataset_creation': 1993, 'last_updated': 'Fri Nov 03 2023', 'dataset_doi': '10.24432/C5DW2B', 'creators': ['William Wolberg', 'Olvi Mangasarian', 'Nick Street', 'W. Street'], 'intro_paper': {'ID': 230, 'type': 'NATIVE', 'title': 'Nuclear feature extraction for breast tumor diagnosis', 'authors': 'W. Street, W. Wolberg, O. Mangasarian', 'venue': 'Electronic imaging', 'year': 1993, 'journal': None, 'DOI': '10.1117/12.148698', 'URL': 'https://www.semanticscholar.org/paper/53f0fbb425bc14468eb3bf96b2e1d41ba8087f36', 'sha': None, 'corpus': None, 'arxiv': None, 'mag': None, 'acl': None, 'pmid': None, 'pmcid': None}, 'additional_info': {'summary': 'Features are computed from a digitized image of a fine needle aspirate (FNA) of a breast mass.  They describe characteristics of the cell nuclei present in the image. A few of the images can be found at http://www.cs.wisc.edu/~street/images/\\r\\n\\r\\nSeparating plane described above was obtained using Multisurface Method-Tree (MSM-T) [K. P. Bennett, \"Decision Tree Construction Via Linear Programming.\" Proceedings of the 4th Midwest Artificial Intelligence and Cognitive Science Society, pp. 97-101, 1992], a classification method which uses linear programming to construct a decision tree.  Relevant features were selected using an exhaustive search in the space of 1-4 features and 1-3 separating planes.\\r\\n\\r\\nThe actual linear program used to obtain the separating plane in the 3-dimensional space is that described in: [K. P. Bennett and O. L. Mangasarian: \"Robust Linear Programming Discrimination of Two Linearly Inseparable Sets\", Optimization Methods and Software 1, 1992, 23-34].\\r\\n\\r\\nThis database is also available through the UW CS ftp server:\\r\\nftp ftp.cs.wisc.edu\\r\\ncd math-prog/cpo-dataset/machine-learn/WDBC/', 'purpose': None, 'funded_by': None, 'instances_represent': None, 'recommended_data_splits': None, 'sensitive_data': None, 'preprocessing_description': None, 'variable_info': '1) ID number\\r\\n2) Diagnosis (M = malignant, B = benign)\\r\\n3-32)\\r\\n\\r\\nTen real-valued features are computed for each cell nucleus:\\r\\n\\r\\n\\ta) radius (mean of distances from center to points on the perimeter)\\r\\n\\tb) texture (standard deviation of gray-scale values)\\r\\n\\tc) perimeter\\r\\n\\td) area\\r\\n\\te) smoothness (local variation in radius lengths)\\r\\n\\tf) compactness (perimeter^2 / area - 1.0)\\r\\n\\tg) concavity (severity of concave portions of the contour)\\r\\n\\th) concave points (number of concave portions of the contour)\\r\\n\\ti) symmetry \\r\\n\\tj) fractal dimension (\"coastline approximation\" - 1)', 'citation': None}}\n",
            "                  name     role         type demographic description units  \\\n",
            "0                   ID       ID  Categorical        None        None  None   \n",
            "1            Diagnosis   Target  Categorical        None        None  None   \n",
            "2              radius1  Feature   Continuous        None        None  None   \n",
            "3             texture1  Feature   Continuous        None        None  None   \n",
            "4           perimeter1  Feature   Continuous        None        None  None   \n",
            "5                area1  Feature   Continuous        None        None  None   \n",
            "6          smoothness1  Feature   Continuous        None        None  None   \n",
            "7         compactness1  Feature   Continuous        None        None  None   \n",
            "8           concavity1  Feature   Continuous        None        None  None   \n",
            "9      concave_points1  Feature   Continuous        None        None  None   \n",
            "10           symmetry1  Feature   Continuous        None        None  None   \n",
            "11  fractal_dimension1  Feature   Continuous        None        None  None   \n",
            "12             radius2  Feature   Continuous        None        None  None   \n",
            "13            texture2  Feature   Continuous        None        None  None   \n",
            "14          perimeter2  Feature   Continuous        None        None  None   \n",
            "15               area2  Feature   Continuous        None        None  None   \n",
            "16         smoothness2  Feature   Continuous        None        None  None   \n",
            "17        compactness2  Feature   Continuous        None        None  None   \n",
            "18          concavity2  Feature   Continuous        None        None  None   \n",
            "19     concave_points2  Feature   Continuous        None        None  None   \n",
            "20           symmetry2  Feature   Continuous        None        None  None   \n",
            "21  fractal_dimension2  Feature   Continuous        None        None  None   \n",
            "22             radius3  Feature   Continuous        None        None  None   \n",
            "23            texture3  Feature   Continuous        None        None  None   \n",
            "24          perimeter3  Feature   Continuous        None        None  None   \n",
            "25               area3  Feature   Continuous        None        None  None   \n",
            "26         smoothness3  Feature   Continuous        None        None  None   \n",
            "27        compactness3  Feature   Continuous        None        None  None   \n",
            "28          concavity3  Feature   Continuous        None        None  None   \n",
            "29     concave_points3  Feature   Continuous        None        None  None   \n",
            "30           symmetry3  Feature   Continuous        None        None  None   \n",
            "31  fractal_dimension3  Feature   Continuous        None        None  None   \n",
            "\n",
            "   missing_values  \n",
            "0              no  \n",
            "1              no  \n",
            "2              no  \n",
            "3              no  \n",
            "4              no  \n",
            "5              no  \n",
            "6              no  \n",
            "7              no  \n",
            "8              no  \n",
            "9              no  \n",
            "10             no  \n",
            "11             no  \n",
            "12             no  \n",
            "13             no  \n",
            "14             no  \n",
            "15             no  \n",
            "16             no  \n",
            "17             no  \n",
            "18             no  \n",
            "19             no  \n",
            "20             no  \n",
            "21             no  \n",
            "22             no  \n",
            "23             no  \n",
            "24             no  \n",
            "25             no  \n",
            "26             no  \n",
            "27             no  \n",
            "28             no  \n",
            "29             no  \n",
            "30             no  \n",
            "31             no  \n"
          ]
        }
      ]
    },
    {
      "cell_type": "markdown",
      "source": [
        "### **Data Preprocessing**"
      ],
      "metadata": {
        "id": "Q7Bxy7Ze4S3I"
      }
    },
    {
      "cell_type": "code",
      "source": [
        "from sklearn.preprocessing import StandardScaler, LabelEncoder\n",
        "import torch\n",
        "import torch.nn as nn\n",
        "import torch.optim as optim\n",
        "from torch.utils.data import DataLoader, TensorDataset, random_split\n",
        "from sklearn.preprocessing import StandardScaler\n",
        "from sklearn.metrics import accuracy_score, f1_score\n",
        "import matplotlib.pyplot as plt\n",
        "import numpy as np\n",
        "\n",
        "\n",
        "# Encode labels\n",
        "le = LabelEncoder()\n",
        "y = le.fit_transform(y)\n",
        "# Standardize features\n",
        "scaler = StandardScaler()\n",
        "X_scaled = scaler.fit_transform(X)\n",
        "\n",
        "# Convert to PyTorch tensors\n",
        "\n",
        "X_tensor = torch.tensor(X_scaled, dtype=torch.float32)\n",
        "y_tensor = torch.tensor(y, dtype=torch.float32).view(-1, 1)\n",
        "\n",
        "dataset = TensorDataset(X_tensor, y_tensor)\n",
        "train_size = int(0.8 * len(dataset))\n",
        "val_size = len(dataset) - train_size\n",
        "train_dataset, val_dataset = random_split(dataset, [train_size, val_size])\n",
        "\n",
        "train_loader = DataLoader(train_dataset, batch_size=32, shuffle=True)\n",
        "val_loader = DataLoader(val_dataset, batch_size=32)"
      ],
      "metadata": {
        "colab": {
          "base_uri": "https://localhost:8080/"
        },
        "id": "i-cFkxQK4ZiL",
        "outputId": "be177da2-6835-4903-fa1e-7ffb7920c3f2"
      },
      "execution_count": 6,
      "outputs": [
        {
          "output_type": "stream",
          "name": "stderr",
          "text": [
            "/usr/local/lib/python3.12/dist-packages/sklearn/preprocessing/_label.py:110: DataConversionWarning: A column-vector y was passed when a 1d array was expected. Please change the shape of y to (n_samples, ), for example using ravel().\n",
            "  y = column_or_1d(y, warn=True)\n"
          ]
        }
      ]
    },
    {
      "cell_type": "markdown",
      "source": [
        "### **Define Neural Network**"
      ],
      "metadata": {
        "id": "1cArfLiu6EG-"
      }
    },
    {
      "cell_type": "code",
      "source": [
        "class BreastCancerNN(nn.Module):\n",
        "    def __init__(self):\n",
        "        super(BreastCancerNN, self).__init__()\n",
        "        self.model = nn.Sequential(\n",
        "            nn.Linear(X.shape[1], 64),\n",
        "            nn.ReLU(),\n",
        "            nn.Dropout(0.3),\n",
        "            nn.Linear(64, 32),\n",
        "            nn.ReLU(),\n",
        "            nn.Linear(32, 1),\n",
        "            nn.Sigmoid()\n",
        "        )\n",
        "    def forward(self, x):\n",
        "        return self.model(x)\n",
        "\n",
        "model = BreastCancerNN()"
      ],
      "metadata": {
        "id": "keR-66NC6L_V"
      },
      "execution_count": 7,
      "outputs": []
    },
    {
      "cell_type": "markdown",
      "source": [
        "### **Loss and Ooptimizer**"
      ],
      "metadata": {
        "id": "I87In9dL6rhF"
      }
    },
    {
      "cell_type": "code",
      "source": [
        "criterion = nn.BCELoss()\n",
        "optimizer = optim.Adam(model.parameters(), lr=0.001)"
      ],
      "metadata": {
        "id": "gJbWA4n767kj"
      },
      "execution_count": 8,
      "outputs": []
    },
    {
      "cell_type": "markdown",
      "source": [
        "###  **Training Loop**"
      ],
      "metadata": {
        "id": "ZqevK3Og7AFq"
      }
    },
    {
      "cell_type": "code",
      "source": [
        "num_epochs = 50\n",
        "train_losses = []\n",
        "val_losses = []\n",
        "train_accs = []\n",
        "val_accs = []\n",
        "\n",
        "for epoch in range(num_epochs):\n",
        "    # Training\n",
        "    model.train()\n",
        "    epoch_train_loss = 0\n",
        "    correct, total = 0, 0\n",
        "\n",
        "    for xb, yb in train_loader:\n",
        "        optimizer.zero_grad()\n",
        "        outputs = model(xb)\n",
        "        loss = criterion(outputs, yb)\n",
        "        loss.backward()\n",
        "        optimizer.step()\n",
        "\n",
        "        epoch_train_loss += loss.item()\n",
        "        preds = (outputs > 0.5).float()\n",
        "        correct += (preds == yb).sum().item()\n",
        "        total += yb.size(0)\n",
        "\n",
        "    train_losses.append(epoch_train_loss / len(train_loader))\n",
        "    train_accs.append(correct / total)\n",
        "\n",
        "    # Validation\n",
        "    model.eval()\n",
        "    val_loss, correct, total = 0, 0, 0\n",
        "    with torch.no_grad():\n",
        "        for xb, yb in val_loader:\n",
        "            outputs = model(xb)\n",
        "            loss = criterion(outputs, yb)\n",
        "            val_loss += loss.item()\n",
        "            preds = (outputs > 0.5).float()\n",
        "            correct += (preds == yb).sum().item()\n",
        "            total += yb.size(0)\n",
        "\n",
        "    val_losses.append(val_loss / len(val_loader))\n",
        "    val_accs.append(correct / total)\n",
        "\n",
        "    print(f\"Epoch {epoch+1}/{num_epochs}, \"\n",
        "          f\"Train Loss: {train_losses[-1]:.4f}, Val Loss: {val_losses[-1]:.4f}, \"\n",
        "          f\"Train Acc: {train_accs[-1]:.4f}, Val Acc: {val_accs[-1]:.4f}\")"
      ],
      "metadata": {
        "colab": {
          "base_uri": "https://localhost:8080/"
        },
        "id": "n0VeZi2h7LGw",
        "outputId": "28321bf9-1a76-4e67-9600-cd45d26dcf93"
      },
      "execution_count": 10,
      "outputs": [
        {
          "output_type": "stream",
          "name": "stdout",
          "text": [
            "Epoch 1/50, Train Loss: 0.6158, Val Loss: 0.5428, Train Acc: 0.8286, Val Acc: 0.8860\n",
            "Epoch 2/50, Train Loss: 0.4535, Val Loss: 0.3693, Train Acc: 0.9363, Val Acc: 0.9123\n",
            "Epoch 3/50, Train Loss: 0.2917, Val Loss: 0.2292, Train Acc: 0.9516, Val Acc: 0.9211\n",
            "Epoch 4/50, Train Loss: 0.1792, Val Loss: 0.1576, Train Acc: 0.9516, Val Acc: 0.9211\n",
            "Epoch 5/50, Train Loss: 0.1301, Val Loss: 0.1218, Train Acc: 0.9604, Val Acc: 0.9737\n",
            "Epoch 6/50, Train Loss: 0.1145, Val Loss: 0.1030, Train Acc: 0.9736, Val Acc: 0.9649\n",
            "Epoch 7/50, Train Loss: 0.0866, Val Loss: 0.0906, Train Acc: 0.9714, Val Acc: 0.9649\n",
            "Epoch 8/50, Train Loss: 0.0847, Val Loss: 0.0847, Train Acc: 0.9714, Val Acc: 0.9649\n",
            "Epoch 9/50, Train Loss: 0.0812, Val Loss: 0.0807, Train Acc: 0.9824, Val Acc: 0.9649\n",
            "Epoch 10/50, Train Loss: 0.0719, Val Loss: 0.0744, Train Acc: 0.9802, Val Acc: 0.9737\n",
            "Epoch 11/50, Train Loss: 0.0622, Val Loss: 0.0729, Train Acc: 0.9824, Val Acc: 0.9737\n",
            "Epoch 12/50, Train Loss: 0.0589, Val Loss: 0.0705, Train Acc: 0.9824, Val Acc: 0.9737\n",
            "Epoch 13/50, Train Loss: 0.0595, Val Loss: 0.0703, Train Acc: 0.9868, Val Acc: 0.9737\n",
            "Epoch 14/50, Train Loss: 0.0581, Val Loss: 0.0718, Train Acc: 0.9868, Val Acc: 0.9737\n",
            "Epoch 15/50, Train Loss: 0.0561, Val Loss: 0.0672, Train Acc: 0.9846, Val Acc: 0.9737\n",
            "Epoch 16/50, Train Loss: 0.0514, Val Loss: 0.0667, Train Acc: 0.9868, Val Acc: 0.9737\n",
            "Epoch 17/50, Train Loss: 0.0562, Val Loss: 0.0646, Train Acc: 0.9824, Val Acc: 0.9737\n",
            "Epoch 18/50, Train Loss: 0.0396, Val Loss: 0.0620, Train Acc: 0.9868, Val Acc: 0.9737\n",
            "Epoch 19/50, Train Loss: 0.0475, Val Loss: 0.0619, Train Acc: 0.9868, Val Acc: 0.9737\n",
            "Epoch 20/50, Train Loss: 0.0414, Val Loss: 0.0608, Train Acc: 0.9824, Val Acc: 0.9737\n",
            "Epoch 21/50, Train Loss: 0.0391, Val Loss: 0.0608, Train Acc: 0.9890, Val Acc: 0.9737\n",
            "Epoch 22/50, Train Loss: 0.0361, Val Loss: 0.0624, Train Acc: 0.9890, Val Acc: 0.9737\n",
            "Epoch 23/50, Train Loss: 0.0396, Val Loss: 0.0652, Train Acc: 0.9868, Val Acc: 0.9737\n",
            "Epoch 24/50, Train Loss: 0.0450, Val Loss: 0.0629, Train Acc: 0.9824, Val Acc: 0.9737\n",
            "Epoch 25/50, Train Loss: 0.0407, Val Loss: 0.0588, Train Acc: 0.9846, Val Acc: 0.9737\n",
            "Epoch 26/50, Train Loss: 0.0405, Val Loss: 0.0610, Train Acc: 0.9890, Val Acc: 0.9737\n",
            "Epoch 27/50, Train Loss: 0.0341, Val Loss: 0.0621, Train Acc: 0.9912, Val Acc: 0.9737\n",
            "Epoch 28/50, Train Loss: 0.0356, Val Loss: 0.0603, Train Acc: 0.9868, Val Acc: 0.9737\n",
            "Epoch 29/50, Train Loss: 0.0295, Val Loss: 0.0603, Train Acc: 0.9912, Val Acc: 0.9737\n",
            "Epoch 30/50, Train Loss: 0.0375, Val Loss: 0.0619, Train Acc: 0.9868, Val Acc: 0.9737\n",
            "Epoch 31/50, Train Loss: 0.0308, Val Loss: 0.0633, Train Acc: 0.9890, Val Acc: 0.9737\n",
            "Epoch 32/50, Train Loss: 0.0369, Val Loss: 0.0614, Train Acc: 0.9846, Val Acc: 0.9737\n",
            "Epoch 33/50, Train Loss: 0.0289, Val Loss: 0.0633, Train Acc: 0.9890, Val Acc: 0.9737\n",
            "Epoch 34/50, Train Loss: 0.0318, Val Loss: 0.0612, Train Acc: 0.9890, Val Acc: 0.9737\n",
            "Epoch 35/50, Train Loss: 0.0265, Val Loss: 0.0613, Train Acc: 0.9890, Val Acc: 0.9737\n",
            "Epoch 36/50, Train Loss: 0.0291, Val Loss: 0.0617, Train Acc: 0.9934, Val Acc: 0.9737\n",
            "Epoch 37/50, Train Loss: 0.0262, Val Loss: 0.0626, Train Acc: 0.9912, Val Acc: 0.9737\n",
            "Epoch 38/50, Train Loss: 0.0264, Val Loss: 0.0638, Train Acc: 0.9934, Val Acc: 0.9737\n",
            "Epoch 39/50, Train Loss: 0.0303, Val Loss: 0.0652, Train Acc: 0.9890, Val Acc: 0.9737\n",
            "Epoch 40/50, Train Loss: 0.0199, Val Loss: 0.0648, Train Acc: 0.9956, Val Acc: 0.9737\n",
            "Epoch 41/50, Train Loss: 0.0231, Val Loss: 0.0638, Train Acc: 0.9956, Val Acc: 0.9737\n",
            "Epoch 42/50, Train Loss: 0.0240, Val Loss: 0.0669, Train Acc: 0.9956, Val Acc: 0.9737\n",
            "Epoch 43/50, Train Loss: 0.0241, Val Loss: 0.0668, Train Acc: 0.9912, Val Acc: 0.9737\n",
            "Epoch 44/50, Train Loss: 0.0195, Val Loss: 0.0675, Train Acc: 0.9956, Val Acc: 0.9737\n",
            "Epoch 45/50, Train Loss: 0.0203, Val Loss: 0.0678, Train Acc: 0.9934, Val Acc: 0.9737\n",
            "Epoch 46/50, Train Loss: 0.0175, Val Loss: 0.0681, Train Acc: 0.9956, Val Acc: 0.9737\n",
            "Epoch 47/50, Train Loss: 0.0186, Val Loss: 0.0661, Train Acc: 0.9912, Val Acc: 0.9737\n",
            "Epoch 48/50, Train Loss: 0.0207, Val Loss: 0.0651, Train Acc: 0.9934, Val Acc: 0.9737\n",
            "Epoch 49/50, Train Loss: 0.0284, Val Loss: 0.0671, Train Acc: 0.9912, Val Acc: 0.9737\n",
            "Epoch 50/50, Train Loss: 0.0154, Val Loss: 0.0743, Train Acc: 0.9956, Val Acc: 0.9737\n"
          ]
        }
      ]
    },
    {
      "cell_type": "markdown",
      "source": [
        "### **Evaluation (F1-Score)**"
      ],
      "metadata": {
        "id": "TwZXZ3_J7oXf"
      }
    },
    {
      "cell_type": "code",
      "source": [
        "y_true, y_pred = [], []\n",
        "model.eval()\n",
        "with torch.no_grad():\n",
        "    for xb, yb in val_loader:\n",
        "        outputs = model(xb)\n",
        "        preds = (outputs > 0.5).float()\n",
        "        y_true.extend(yb.numpy())\n",
        "        y_pred.extend(preds.numpy())\n",
        "\n",
        "print(\"Validation Accuracy:\", accuracy_score(y_true, y_pred))\n",
        "print(\"Validation F1-score:\", f1_score(y_true, y_pred))"
      ],
      "metadata": {
        "colab": {
          "base_uri": "https://localhost:8080/"
        },
        "id": "A5vBE33h7wAr",
        "outputId": "50ee1351-d68f-4b64-d8ab-ead63b0d1aba"
      },
      "execution_count": 11,
      "outputs": [
        {
          "output_type": "stream",
          "name": "stdout",
          "text": [
            "Validation Accuracy: 0.9736842105263158\n",
            "Validation F1-score: 0.963855421686747\n"
          ]
        }
      ]
    },
    {
      "cell_type": "markdown",
      "source": [
        "### **Plot Loss and Accuracy**"
      ],
      "metadata": {
        "id": "f6RzjOqI71Fq"
      }
    },
    {
      "cell_type": "code",
      "source": [
        "plt.figure(figsize=(12,5))\n",
        "\n",
        "plt.subplot(1,2,1)\n",
        "plt.plot(train_losses, label=\"Train Loss\")\n",
        "plt.plot(val_losses, label=\"Val Loss\")\n",
        "plt.xlabel(\"Epoch\")\n",
        "plt.ylabel(\"Loss\")\n",
        "plt.title(\"Training & Validation Loss\")\n",
        "plt.legend()\n",
        "\n",
        "plt.subplot(1,2,2)\n",
        "plt.plot(train_accs, label=\"Train Acc\")\n",
        "plt.plot(val_accs, label=\"Val Acc\")\n",
        "plt.xlabel(\"Epoch\")\n",
        "plt.ylabel(\"Accuracy\")\n",
        "plt.title(\"Training & Validation Accuracy\")\n",
        "plt.legend()\n",
        "\n",
        "plt.show()"
      ],
      "metadata": {
        "colab": {
          "base_uri": "https://localhost:8080/",
          "height": 376
        },
        "id": "SfNrXQNk79b2",
        "outputId": "ec391af2-9d7d-4859-a68a-c6eece06721c"
      },
      "execution_count": 12,
      "outputs": [
        {
          "output_type": "display_data",
          "data": {
            "text/plain": [
              "<Figure size 1200x500 with 2 Axes>"
            ],
            "image/png": "[encoded data removed]"
          },
          "metadata": {}
        }
      ]
    }
  ]
}